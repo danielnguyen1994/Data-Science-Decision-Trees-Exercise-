{
 "cells": [
  {
   "cell_type": "code",
   "execution_count": 1,
   "metadata": {},
   "outputs": [
    {
     "data": {
      "text/html": [
       "<div>\n",
       "<style scoped>\n",
       "    .dataframe tbody tr th:only-of-type {\n",
       "        vertical-align: middle;\n",
       "    }\n",
       "\n",
       "    .dataframe tbody tr th {\n",
       "        vertical-align: top;\n",
       "    }\n",
       "\n",
       "    .dataframe thead th {\n",
       "        text-align: right;\n",
       "    }\n",
       "</style>\n",
       "<table border=\"1\" class=\"dataframe\">\n",
       "  <thead>\n",
       "    <tr style=\"text-align: right;\">\n",
       "      <th></th>\n",
       "      <th>Age</th>\n",
       "      <th>Income</th>\n",
       "      <th>Student</th>\n",
       "      <th>Credit</th>\n",
       "      <th>Buys</th>\n",
       "    </tr>\n",
       "  </thead>\n",
       "  <tbody>\n",
       "    <tr>\n",
       "      <th>0</th>\n",
       "      <td>0</td>\n",
       "      <td>2</td>\n",
       "      <td>0</td>\n",
       "      <td>0</td>\n",
       "      <td>0</td>\n",
       "    </tr>\n",
       "    <tr>\n",
       "      <th>1</th>\n",
       "      <td>0</td>\n",
       "      <td>2</td>\n",
       "      <td>0</td>\n",
       "      <td>1</td>\n",
       "      <td>0</td>\n",
       "    </tr>\n",
       "    <tr>\n",
       "      <th>2</th>\n",
       "      <td>1</td>\n",
       "      <td>2</td>\n",
       "      <td>0</td>\n",
       "      <td>0</td>\n",
       "      <td>1</td>\n",
       "    </tr>\n",
       "    <tr>\n",
       "      <th>3</th>\n",
       "      <td>2</td>\n",
       "      <td>1</td>\n",
       "      <td>0</td>\n",
       "      <td>0</td>\n",
       "      <td>1</td>\n",
       "    </tr>\n",
       "    <tr>\n",
       "      <th>4</th>\n",
       "      <td>2</td>\n",
       "      <td>0</td>\n",
       "      <td>1</td>\n",
       "      <td>0</td>\n",
       "      <td>1</td>\n",
       "    </tr>\n",
       "  </tbody>\n",
       "</table>\n",
       "</div>"
      ],
      "text/plain": [
       "   Age  Income  Student  Credit  Buys\n",
       "0    0       2        0       0     0\n",
       "1    0       2        0       1     0\n",
       "2    1       2        0       0     1\n",
       "3    2       1        0       0     1\n",
       "4    2       0        1       0     1"
      ]
     },
     "execution_count": 1,
     "metadata": {},
     "output_type": "execute_result"
    }
   ],
   "source": [
    "import pandas as pd\n",
    "from sklearn.tree import DecisionTreeClassifier\n",
    "\n",
    "buys_computer = {\n",
    "            'Age':    [0,0,1,2,2,2,1,0,0,2,0,1,1,2,0,0,0,1,2,1],\n",
    "            'Income': [2,2,2,1,0,0,0,1,0,1,1,1,2,1,1,0,0,0,1,2],\n",
    "            'Student':[0,0,0,0,1,1,1,0,1,1,1,0,1,0,0,0,0,1,1,0],\n",
    "            'Credit': [0,1,0,0,0,1,1,0,0,0,1,1,0,1,1,0,1,0,1,1],\n",
    "            'Buys':   [0,0,1,1,1,0,1,0,1,1,1,1,1,0,0,0,0,1,1,1],\n",
    "          }\n",
    "\n",
    "target_names = ['Buys No Computer','Buys Computer']  \n",
    "feature_names = ['Age','Income','Student','Credit']\n",
    "\n",
    "df = pd.DataFrame(buys_computer)\n",
    "df.head()"
   ]
  },
  {
   "cell_type": "code",
   "execution_count": 2,
   "metadata": {},
   "outputs": [
    {
     "data": {
      "text/plain": [
       "DecisionTreeClassifier(max_depth=2)"
      ]
     },
     "execution_count": 2,
     "metadata": {},
     "output_type": "execute_result"
    }
   ],
   "source": [
    "X = df[['Age','Income','Student','Credit']]\n",
    "y = df[['Buys']]\n",
    "\n",
    "tree_clf = DecisionTreeClassifier(max_depth=2)\n",
    "tree_clf.fit(X, y)"
   ]
  },
  {
   "cell_type": "code",
   "execution_count": 3,
   "metadata": {},
   "outputs": [],
   "source": [
    "from sklearn.tree import export_graphviz\n",
    " \n",
    "export_graphviz(\n",
    "         tree_clf,\n",
    "     out_file=r\"C:\\Users\\Daniel\\Downloads\\buys_computer_tree.dot\",\n",
    "         feature_names=feature_names[:],\n",
    "         class_names=target_names,\n",
    "         rounded=True,\n",
    "         filled=True\n",
    ")"
   ]
  },
  {
   "cell_type": "raw",
   "metadata": {},
   "source": [
    "out file code: \n",
    "\n",
    "digraph Tree {\n",
    "node [shape=box, style=\"filled, rounded\", color=\"black\", fontname=helvetica] ;\n",
    "edge [fontname=helvetica] ;\n",
    "0 [label=\"Age <= 0.5\\ngini = 0.48\\nsamples = 20\\nvalue = [8, 12]\\nclass = Buys Computer\", fillcolor=\"#bddef6\"] ;\n",
    "1 [label=\"Student <= 0.5\\ngini = 0.375\\nsamples = 8\\nvalue = [6, 2]\\nclass = Buys No Computer\", fillcolor=\"#eeab7b\"] ;\n",
    "0 -> 1 [labeldistance=2.5, labelangle=45, headlabel=\"True\"] ;\n",
    "2 [label=\"gini = 0.0\\nsamples = 6\\nvalue = [6, 0]\\nclass = Buys No Computer\", fillcolor=\"#e58139\"] ;\n",
    "1 -> 2 ;\n",
    "3 [label=\"gini = 0.0\\nsamples = 2\\nvalue = [0, 2]\\nclass = Buys Computer\", fillcolor=\"#399de5\"] ;\n",
    "1 -> 3 ;\n",
    "4 [label=\"Credit <= 0.5\\ngini = 0.278\\nsamples = 12\\nvalue = [2, 10]\\nclass = Buys Computer\", fillcolor=\"#61b1ea\"] ;\n",
    "0 -> 4 [labeldistance=2.5, labelangle=-45, headlabel=\"False\"] ;\n",
    "5 [label=\"gini = 0.0\\nsamples = 6\\nvalue = [0, 6]\\nclass = Buys Computer\", fillcolor=\"#399de5\"] ;\n",
    "4 -> 5 ;\n",
    "6 [label=\"gini = 0.444\\nsamples = 6\\nvalue = [2, 4]\\nclass = Buys Computer\", fillcolor=\"#9ccef2\"] ;\n",
    "4 -> 6 ;\n",
    "}\n"
   ]
  }
 ],
 "metadata": {
  "kernelspec": {
   "display_name": "Python 3",
   "language": "python",
   "name": "python3"
  },
  "language_info": {
   "codemirror_mode": {
    "name": "ipython",
    "version": 3
   },
   "file_extension": ".py",
   "mimetype": "text/x-python",
   "name": "python",
   "nbconvert_exporter": "python",
   "pygments_lexer": "ipython3",
   "version": "3.8.5"
  }
 },
 "nbformat": 4,
 "nbformat_minor": 4
}
